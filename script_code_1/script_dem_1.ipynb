{
 "cells": [
  {
   "cell_type": "markdown",
   "id": "688b3350-c17f-46cb-9370-0341b5e4ad23",
   "metadata": {},
   "source": [
    "# Train a model for classifying tissue samples into benign vs malign"
   ]
  },
  {
   "cell_type": "markdown",
   "id": "b9411c72-065b-4cdf-9420-6d07685f60ef",
   "metadata": {},
   "source": [
    "## Import needed libraries"
   ]
  },
  {
   "cell_type": "code",
   "execution_count": 18,
   "id": "63b33f0d-e5c7-43df-bbe8-c916882916e4",
   "metadata": {},
   "outputs": [],
   "source": [
    "# download from urls\n",
    "import urllib.request\n",
    "\n",
    "\n",
    "import os\n",
    "import tarfile\n",
    "import pandas as pd\n",
    "import shutil\n",
    "from sklearn.model_selection import train_test_split\n",
    "# tf\n",
    "import tensorflow as tf\n",
    "from tensorflow.keras.preprocessing.image import ImageDataGenerator\n",
    "from tensorflow.keras.models import Sequential\n",
    "from tensorflow.keras.layers import Conv2D, MaxPooling2D, Flatten, Dense, Dropout\n"
   ]
  },
  {
   "cell_type": "markdown",
   "id": "522ca917-aba1-4995-a5a3-0adb0859d367",
   "metadata": {},
   "source": [
    "## Get the data ready"
   ]
  },
  {
   "cell_type": "markdown",
   "id": "c2812368-7a0a-4e11-ab38-54e6e98f51df",
   "metadata": {},
   "source": [
    "### Download the images"
   ]
  },
  {
   "cell_type": "code",
   "execution_count": 19,
   "id": "6bb10980-850d-448f-8320-28587b703453",
   "metadata": {},
   "outputs": [
    {
     "name": "stdout",
     "output_type": "stream",
     "text": [
      "downloading/mnt/Data2/CXR8/imgs/images_01.tar.gz...\n",
      "downloading/mnt/Data2/CXR8/imgs/images_02.tar.gz...\n",
      "downloading/mnt/Data2/CXR8/imgs/images_03.tar.gz...\n",
      "downloading/mnt/Data2/CXR8/imgs/images_04.tar.gz...\n",
      "downloading/mnt/Data2/CXR8/imgs/images_05.tar.gz...\n",
      "downloading/mnt/Data2/CXR8/imgs/images_06.tar.gz...\n",
      "downloading/mnt/Data2/CXR8/imgs/images_07.tar.gz...\n",
      "downloading/mnt/Data2/CXR8/imgs/images_08.tar.gz...\n",
      "downloading/mnt/Data2/CXR8/imgs/images_09.tar.gz...\n",
      "downloading/mnt/Data2/CXR8/imgs/images_10.tar.gz...\n",
      "downloading/mnt/Data2/CXR8/imgs/images_11.tar.gz...\n",
      "downloading/mnt/Data2/CXR8/imgs/images_12.tar.gz...\n",
      "Download complete. Please check the checksums\n"
     ]
    }
   ],
   "source": [
    "# Download the 56 zip files in Images_png in batches\n",
    "# URLs for the zip files\n",
    "links = [\n",
    "    'https://nihcc.box.com/shared/static/vfk49d74nhbxq3nqjg0900w5nvkorp5c.gz',\n",
    "    'https://nihcc.box.com/shared/static/i28rlmbvmfjbl8p2n3ril0pptcmcu9d1.gz',\n",
    "    'https://nihcc.box.com/shared/static/f1t00wrtdk94satdfb9olcolqx20z2jp.gz',\n",
    "\t'https://nihcc.box.com/shared/static/0aowwzs5lhjrceb3qp67ahp0rd1l1etg.gz',\n",
    "    'https://nihcc.box.com/shared/static/v5e3goj22zr6h8tzualxfsqlqaygfbsn.gz',\n",
    "\t'https://nihcc.box.com/shared/static/asi7ikud9jwnkrnkj99jnpfkjdes7l6l.gz',\n",
    "\t'https://nihcc.box.com/shared/static/jn1b4mw4n6lnh74ovmcjb8y48h8xj07n.gz',\n",
    "    'https://nihcc.box.com/shared/static/tvpxmn7qyrgl0w8wfh9kqfjskv6nmm1j.gz',\n",
    "\t'https://nihcc.box.com/shared/static/upyy3ml7qdumlgk2rfcvlb9k6gvqq2pj.gz',\n",
    "\t'https://nihcc.box.com/shared/static/l6nilvfa9cg3s28tqv1qc1olm3gnz54p.gz',\n",
    "\t'https://nihcc.box.com/shared/static/hhq8fkdgvcari67vfhs7ppg2w6ni4jze.gz',\n",
    "\t'https://nihcc.box.com/shared/static/ioqwiy20ihqwyr8pf4c24eazhh281pbu.gz'\n",
    "]\n",
    "\n",
    "\n",
    "for idx, link in enumerate(links):\n",
    "    fn = '/mnt/Data2/CXR8/imgs/images_%02d.tar.gz' % (idx+1)\n",
    "    print('downloading'+fn+'...')\n",
    "    urllib.request.urlretrieve(link, fn)  # download the zip file\n",
    "\n",
    "\n",
    "print(\"Download complete. Please check the checksums\")"
   ]
  },
  {
   "cell_type": "markdown",
   "id": "baaf4708-15c0-4897-af03-a726ae7f76b8",
   "metadata": {},
   "source": [
    "### Define the paths"
   ]
  },
  {
   "cell_type": "code",
   "execution_count": 20,
   "id": "e5d335f0-1491-4b8f-914c-7ea2703ac7a2",
   "metadata": {},
   "outputs": [],
   "source": [
    "# Paths\n",
    "data_dir = '/mnt/Data2/CXR8/imgs/'\n",
    "csv_path = '/mnt/Data2/CXR8/Data_Entry_2017_v2020.csv'\n",
    "output_dir = '/mnt/Data2/CXR8/processed/'"
   ]
  },
  {
   "cell_type": "markdown",
   "id": "ba63e0b2-60cf-4139-b379-367df7b1ff75",
   "metadata": {},
   "source": [
    "### Unpack the files"
   ]
  },
  {
   "cell_type": "code",
   "execution_count": 21,
   "id": "2a82f601-0620-40bb-94e3-3c99f01df01b",
   "metadata": {},
   "outputs": [
    {
     "name": "stdout",
     "output_type": "stream",
     "text": [
      "Unpacked images_01.tar.gz into /mnt/Data2/CXR8/imgs/images_01\n",
      "Unpacked images_02.tar.gz into /mnt/Data2/CXR8/imgs/images_02\n",
      "Unpacked images_03.tar.gz into /mnt/Data2/CXR8/imgs/images_03\n",
      "Unpacked images_04.tar.gz into /mnt/Data2/CXR8/imgs/images_04\n",
      "Unpacked images_05.tar.gz into /mnt/Data2/CXR8/imgs/images_05\n",
      "Unpacked images_06.tar.gz into /mnt/Data2/CXR8/imgs/images_06\n"
     ]
    },
    {
     "ename": "KeyboardInterrupt",
     "evalue": "",
     "output_type": "error",
     "traceback": [
      "\u001b[0;31m---------------------------------------------------------------------------\u001b[0m",
      "\u001b[0;31mKeyboardInterrupt\u001b[0m                         Traceback (most recent call last)",
      "Cell \u001b[0;32mIn[21], line 8\u001b[0m\n\u001b[1;32m      6\u001b[0m os\u001b[38;5;241m.\u001b[39mmakedirs(subdir, exist_ok\u001b[38;5;241m=\u001b[39m\u001b[38;5;28;01mTrue\u001b[39;00m)\n\u001b[1;32m      7\u001b[0m \u001b[38;5;28;01mwith\u001b[39;00m tarfile\u001b[38;5;241m.\u001b[39mopen(tar_path, \u001b[38;5;124m'\u001b[39m\u001b[38;5;124mr:gz\u001b[39m\u001b[38;5;124m'\u001b[39m) \u001b[38;5;28;01mas\u001b[39;00m tar:\n\u001b[0;32m----> 8\u001b[0m     \u001b[43mtar\u001b[49m\u001b[38;5;241;43m.\u001b[39;49m\u001b[43mextractall\u001b[49m\u001b[43m(\u001b[49m\u001b[43mpath\u001b[49m\u001b[38;5;241;43m=\u001b[39;49m\u001b[43msubdir\u001b[49m\u001b[43m)\u001b[49m\n\u001b[1;32m      9\u001b[0m \u001b[38;5;28mprint\u001b[39m(\u001b[38;5;124mf\u001b[39m\u001b[38;5;124m'\u001b[39m\u001b[38;5;124mUnpacked \u001b[39m\u001b[38;5;132;01m{\u001b[39;00mtar_file\u001b[38;5;132;01m}\u001b[39;00m\u001b[38;5;124m into \u001b[39m\u001b[38;5;132;01m{\u001b[39;00msubdir\u001b[38;5;132;01m}\u001b[39;00m\u001b[38;5;124m'\u001b[39m)\n",
      "File \u001b[0;32m~/anaconda3/lib/python3.11/tarfile.py:2265\u001b[0m, in \u001b[0;36mTarFile.extractall\u001b[0;34m(self, path, members, numeric_owner, filter)\u001b[0m\n\u001b[1;32m   2260\u001b[0m     \u001b[38;5;28;01mif\u001b[39;00m tarinfo\u001b[38;5;241m.\u001b[39misdir():\n\u001b[1;32m   2261\u001b[0m         \u001b[38;5;66;03m# For directories, delay setting attributes until later,\u001b[39;00m\n\u001b[1;32m   2262\u001b[0m         \u001b[38;5;66;03m# since permissions can interfere with extraction and\u001b[39;00m\n\u001b[1;32m   2263\u001b[0m         \u001b[38;5;66;03m# extracting contents can reset mtime.\u001b[39;00m\n\u001b[1;32m   2264\u001b[0m         directories\u001b[38;5;241m.\u001b[39mappend(tarinfo)\n\u001b[0;32m-> 2265\u001b[0m     \u001b[38;5;28;43mself\u001b[39;49m\u001b[38;5;241;43m.\u001b[39;49m\u001b[43m_extract_one\u001b[49m\u001b[43m(\u001b[49m\u001b[43mtarinfo\u001b[49m\u001b[43m,\u001b[49m\u001b[43m \u001b[49m\u001b[43mpath\u001b[49m\u001b[43m,\u001b[49m\u001b[43m \u001b[49m\u001b[43mset_attrs\u001b[49m\u001b[38;5;241;43m=\u001b[39;49m\u001b[38;5;129;43;01mnot\u001b[39;49;00m\u001b[43m \u001b[49m\u001b[43mtarinfo\u001b[49m\u001b[38;5;241;43m.\u001b[39;49m\u001b[43misdir\u001b[49m\u001b[43m(\u001b[49m\u001b[43m)\u001b[49m\u001b[43m,\u001b[49m\n\u001b[1;32m   2266\u001b[0m \u001b[43m                      \u001b[49m\u001b[43mnumeric_owner\u001b[49m\u001b[38;5;241;43m=\u001b[39;49m\u001b[43mnumeric_owner\u001b[49m\u001b[43m)\u001b[49m\n\u001b[1;32m   2268\u001b[0m \u001b[38;5;66;03m# Reverse sort directories.\u001b[39;00m\n\u001b[1;32m   2269\u001b[0m directories\u001b[38;5;241m.\u001b[39msort(key\u001b[38;5;241m=\u001b[39m\u001b[38;5;28;01mlambda\u001b[39;00m a: a\u001b[38;5;241m.\u001b[39mname, reverse\u001b[38;5;241m=\u001b[39m\u001b[38;5;28;01mTrue\u001b[39;00m)\n",
      "File \u001b[0;32m~/anaconda3/lib/python3.11/tarfile.py:2328\u001b[0m, in \u001b[0;36mTarFile._extract_one\u001b[0;34m(self, tarinfo, path, set_attrs, numeric_owner)\u001b[0m\n\u001b[1;32m   2325\u001b[0m \u001b[38;5;28mself\u001b[39m\u001b[38;5;241m.\u001b[39m_check(\u001b[38;5;124m\"\u001b[39m\u001b[38;5;124mr\u001b[39m\u001b[38;5;124m\"\u001b[39m)\n\u001b[1;32m   2327\u001b[0m \u001b[38;5;28;01mtry\u001b[39;00m:\n\u001b[0;32m-> 2328\u001b[0m     \u001b[38;5;28;43mself\u001b[39;49m\u001b[38;5;241;43m.\u001b[39;49m\u001b[43m_extract_member\u001b[49m\u001b[43m(\u001b[49m\u001b[43mtarinfo\u001b[49m\u001b[43m,\u001b[49m\u001b[43m \u001b[49m\u001b[43mos\u001b[49m\u001b[38;5;241;43m.\u001b[39;49m\u001b[43mpath\u001b[49m\u001b[38;5;241;43m.\u001b[39;49m\u001b[43mjoin\u001b[49m\u001b[43m(\u001b[49m\u001b[43mpath\u001b[49m\u001b[43m,\u001b[49m\u001b[43m \u001b[49m\u001b[43mtarinfo\u001b[49m\u001b[38;5;241;43m.\u001b[39;49m\u001b[43mname\u001b[49m\u001b[43m)\u001b[49m\u001b[43m,\u001b[49m\n\u001b[1;32m   2329\u001b[0m \u001b[43m                         \u001b[49m\u001b[43mset_attrs\u001b[49m\u001b[38;5;241;43m=\u001b[39;49m\u001b[43mset_attrs\u001b[49m\u001b[43m,\u001b[49m\n\u001b[1;32m   2330\u001b[0m \u001b[43m                         \u001b[49m\u001b[43mnumeric_owner\u001b[49m\u001b[38;5;241;43m=\u001b[39;49m\u001b[43mnumeric_owner\u001b[49m\u001b[43m)\u001b[49m\n\u001b[1;32m   2331\u001b[0m \u001b[38;5;28;01mexcept\u001b[39;00m \u001b[38;5;167;01mOSError\u001b[39;00m \u001b[38;5;28;01mas\u001b[39;00m e:\n\u001b[1;32m   2332\u001b[0m     \u001b[38;5;28mself\u001b[39m\u001b[38;5;241m.\u001b[39m_handle_fatal_error(e)\n",
      "File \u001b[0;32m~/anaconda3/lib/python3.11/tarfile.py:2411\u001b[0m, in \u001b[0;36mTarFile._extract_member\u001b[0;34m(self, tarinfo, targetpath, set_attrs, numeric_owner)\u001b[0m\n\u001b[1;32m   2408\u001b[0m     \u001b[38;5;28mself\u001b[39m\u001b[38;5;241m.\u001b[39m_dbg(\u001b[38;5;241m1\u001b[39m, tarinfo\u001b[38;5;241m.\u001b[39mname)\n\u001b[1;32m   2410\u001b[0m \u001b[38;5;28;01mif\u001b[39;00m tarinfo\u001b[38;5;241m.\u001b[39misreg():\n\u001b[0;32m-> 2411\u001b[0m     \u001b[38;5;28;43mself\u001b[39;49m\u001b[38;5;241;43m.\u001b[39;49m\u001b[43mmakefile\u001b[49m\u001b[43m(\u001b[49m\u001b[43mtarinfo\u001b[49m\u001b[43m,\u001b[49m\u001b[43m \u001b[49m\u001b[43mtargetpath\u001b[49m\u001b[43m)\u001b[49m\n\u001b[1;32m   2412\u001b[0m \u001b[38;5;28;01melif\u001b[39;00m tarinfo\u001b[38;5;241m.\u001b[39misdir():\n\u001b[1;32m   2413\u001b[0m     \u001b[38;5;28mself\u001b[39m\u001b[38;5;241m.\u001b[39mmakedir(tarinfo, targetpath)\n",
      "File \u001b[0;32m~/anaconda3/lib/python3.11/tarfile.py:2465\u001b[0m, in \u001b[0;36mTarFile.makefile\u001b[0;34m(self, tarinfo, targetpath)\u001b[0m\n\u001b[1;32m   2463\u001b[0m     target\u001b[38;5;241m.\u001b[39mtruncate()\n\u001b[1;32m   2464\u001b[0m \u001b[38;5;28;01melse\u001b[39;00m:\n\u001b[0;32m-> 2465\u001b[0m     \u001b[43mcopyfileobj\u001b[49m\u001b[43m(\u001b[49m\u001b[43msource\u001b[49m\u001b[43m,\u001b[49m\u001b[43m \u001b[49m\u001b[43mtarget\u001b[49m\u001b[43m,\u001b[49m\u001b[43m \u001b[49m\u001b[43mtarinfo\u001b[49m\u001b[38;5;241;43m.\u001b[39;49m\u001b[43msize\u001b[49m\u001b[43m,\u001b[49m\u001b[43m \u001b[49m\u001b[43mReadError\u001b[49m\u001b[43m,\u001b[49m\u001b[43m \u001b[49m\u001b[43mbufsize\u001b[49m\u001b[43m)\u001b[49m\n",
      "File \u001b[0;32m~/anaconda3/lib/python3.11/tarfile.py:255\u001b[0m, in \u001b[0;36mcopyfileobj\u001b[0;34m(src, dst, length, exception, bufsize)\u001b[0m\n\u001b[1;32m    253\u001b[0m     \u001b[38;5;28;01mif\u001b[39;00m \u001b[38;5;28mlen\u001b[39m(buf) \u001b[38;5;241m<\u001b[39m bufsize:\n\u001b[1;32m    254\u001b[0m         \u001b[38;5;28;01mraise\u001b[39;00m exception(\u001b[38;5;124m\"\u001b[39m\u001b[38;5;124munexpected end of data\u001b[39m\u001b[38;5;124m\"\u001b[39m)\n\u001b[0;32m--> 255\u001b[0m     dst\u001b[38;5;241m.\u001b[39mwrite(buf)\n\u001b[1;32m    257\u001b[0m \u001b[38;5;28;01mif\u001b[39;00m remainder \u001b[38;5;241m!=\u001b[39m \u001b[38;5;241m0\u001b[39m:\n\u001b[1;32m    258\u001b[0m     buf \u001b[38;5;241m=\u001b[39m src\u001b[38;5;241m.\u001b[39mread(remainder)\n",
      "\u001b[0;31mKeyboardInterrupt\u001b[0m: "
     ]
    }
   ],
   "source": [
    "# Unpack all .tar.gz files into individual subdirectories\n",
    "tar_files = [f for f in os.listdir(data_dir) if f.endswith('.tar.gz')]\n",
    "for tar_file in tar_files:\n",
    "    tar_path = os.path.join(data_dir, tar_file)\n",
    "    subdir = os.path.join(data_dir, tar_file[:-7])  # Create subdirectory based on tar file name\n",
    "    os.makedirs(subdir, exist_ok=True)\n",
    "    with tarfile.open(tar_path, 'r:gz') as tar:\n",
    "        tar.extractall(path=subdir)\n",
    "    print(f'Unpacked {tar_file} into {subdir}')"
   ]
  },
  {
   "cell_type": "code",
   "execution_count": null,
   "id": "e1f6633e-d2c2-4595-bb19-190d090fced0",
   "metadata": {},
   "outputs": [],
   "source": [
    "# Create directories for processed data\n",
    "os.makedirs(os.path.join(output_dir, 'train/normal'), exist_ok=True)\n",
    "os.makedirs(os.path.join(output_dir, 'train/pneumonia'), exist_ok=True)\n",
    "os.makedirs(os.path.join(output_dir, 'test/normal'), exist_ok=True)\n",
    "os.makedirs(os.path.join(output_dir, 'test/pneumonia'), exist_ok=True)"
   ]
  },
  {
   "cell_type": "markdown",
   "id": "783dcc76-0475-4b31-9951-fe5db6205e2b",
   "metadata": {},
   "source": [
    "### Load the csv file for identifying the labels for normal vs pneumonia"
   ]
  },
  {
   "cell_type": "code",
   "execution_count": null,
   "id": "2f0d7f7e-9fb0-48c3-8be7-2738d0b0d41f",
   "metadata": {},
   "outputs": [],
   "source": [
    "# Load CSV\n",
    "df = pd.read_csv(csv_path)"
   ]
  },
  {
   "cell_type": "markdown",
   "id": "a4ab7809-e12d-48a5-a7df-b4bfa512794e",
   "metadata": {},
   "source": [
    "### filter out for Pneumonia vs Normal"
   ]
  },
  {
   "cell_type": "code",
   "execution_count": null,
   "id": "285f0bd6-5554-4846-8e97-093bdeacc83c",
   "metadata": {},
   "outputs": [],
   "source": [
    "# Filter images with labels 'normal' and 'pneumonia'\n",
    "filtered_df = df[df['Finding Labels'].isin(['No Finding', 'Pneumonia'])]\n",
    "# Map 'No Finding' to 'normal' and 'Pneumonia' to 'pneumonia'\n",
    "filtered_df['label'] = filtered_df['Finding Labels'].map({'No Finding': 'normal', 'Pneumonia': 'pneumonia'})"
   ]
  },
  {
   "cell_type": "markdown",
   "id": "1c8ae5d2-5a66-4bef-bbf1-3d9ef7bb8dce",
   "metadata": {},
   "source": [
    "### Split into train and test"
   ]
  },
  {
   "cell_type": "code",
   "execution_count": null,
   "id": "20b35cc1-f2a8-4180-91a6-db3b80b16b2d",
   "metadata": {},
   "outputs": [],
   "source": [
    "# Split into train and test sets\n",
    "train_df, test_df = train_test_split(filtered_df, test_size=0.2, stratify=filtered_df['label'], random_state=42)"
   ]
  },
  {
   "cell_type": "markdown",
   "id": "4b61ab3a-d5c9-4ff6-9460-1b575554d901",
   "metadata": {},
   "source": [
    "### copy images to corresponding folders"
   ]
  },
  {
   "cell_type": "code",
   "execution_count": null,
   "id": "f55197af-cfbb-4b2c-b3a7-6461cf4d9a1f",
   "metadata": {},
   "outputs": [],
   "source": [
    "# Function to copy images to their respective directories\n",
    "def copy_images(df, split):\n",
    "    for _, row in df.iterrows():\n",
    "        label = row['label']\n",
    "        image_path = os.path.join(image_dir, row['Image Index'])\n",
    "        if os.path.exists(image_path):\n",
    "            shutil.copy(image_path, os.path.join(output_dir, split, label, row['Image Index']))\n",
    "\n",
    "# Copy images to train and test directories\n",
    "copy_images(train_df, 'train')\n",
    "copy_images(test_df, 'test')\n",
    "\n",
    "print(\"Images have been successfully filtered and organized.\")"
   ]
  },
  {
   "cell_type": "markdown",
   "id": "8ad47e74-951e-472d-b097-1a165a64eb05",
   "metadata": {},
   "source": [
    "## Get the model ready"
   ]
  },
  {
   "cell_type": "markdown",
   "id": "2668947d-b868-4b62-8317-f1d0f68703a3",
   "metadata": {},
   "source": [
    "### Parameters"
   ]
  },
  {
   "cell_type": "code",
   "execution_count": null,
   "id": "e5e544f6-386a-4743-8c1c-8e4f93fc0b7b",
   "metadata": {},
   "outputs": [],
   "source": [
    "# Parameters for training\n",
    "img_height, img_width = 224, 224\n",
    "batch_size = 32\n",
    "epochs = 10"
   ]
  },
  {
   "cell_type": "markdown",
   "id": "bfc6f8d9-abac-4ca0-b0e1-77307ade3a16",
   "metadata": {},
   "source": [
    "### Generate the data for the DL model training"
   ]
  },
  {
   "cell_type": "code",
   "execution_count": null,
   "id": "99ea8495-5332-46f3-9db4-04c4f34c08db",
   "metadata": {},
   "outputs": [],
   "source": [
    "# Data generators\n",
    "train_datagen = ImageDataGenerator(rescale=1.0/255.0)\n",
    "test_datagen = ImageDataGenerator(rescale=1.0/255.0)\n",
    "\n",
    "\n",
    "train_generator = train_datagen.flow_from_directory(\n",
    "    os.path.join(output_dir, 'train'),\n",
    "    target_size=(img_height, img_width),\n",
    "    batch_size=batch_size,\n",
    "    class_mode='binary'\n",
    ")\n",
    "\n",
    "\n",
    "test_generator = test_datagen.flow_from_directory(\n",
    "    os.path.join(output_dir, 'test'),\n",
    "    target_size=(img_height, img_width),\n",
    "    batch_size=batch_size,\n",
    "    class_mode='binary'\n",
    ")"
   ]
  },
  {
   "cell_type": "markdown",
   "id": "a0c86f46-1480-4a76-801a-c6fc357f1b75",
   "metadata": {},
   "source": [
    "### Model building"
   ]
  },
  {
   "cell_type": "code",
   "execution_count": null,
   "id": "94a046ab-1104-4bc5-b8bf-2ae09e3876bf",
   "metadata": {},
   "outputs": [],
   "source": []
  }
 ],
 "metadata": {
  "kernelspec": {
   "display_name": "Python 3 (ipykernel)",
   "language": "python",
   "name": "python3"
  },
  "language_info": {
   "codemirror_mode": {
    "name": "ipython",
    "version": 3
   },
   "file_extension": ".py",
   "mimetype": "text/x-python",
   "name": "python",
   "nbconvert_exporter": "python",
   "pygments_lexer": "ipython3",
   "version": "3.11.8"
  }
 },
 "nbformat": 4,
 "nbformat_minor": 5
}
